{
 "cells": [
  {
   "cell_type": "markdown",
   "metadata": {
    "id": "vXUqFpLObzhb"
   },
   "source": [
    "## Optimal Planning\n",
    "\n",
    "This python notebook shows how to use the unified planning library to solve problems with a given optimality metric.\n",
    "\n",
    "[![Open In GitHub](https://img.shields.io/badge/see-Github-579aca?logo=github)](https:///github.com/aiplan4eu/unified-planning/blob/master/docs/notebooks/02-optimal-planning.ipynb)\n",
    "[![Open In Colab](https://colab.research.google.com/assets/colab-badge.svg)](https://colab.research.google.com/github/aiplan4eu/unified-planning/blob/master/docs/notebooks/02-optimal-planning.ipynb)"
   ]
  },
  {
   "cell_type": "markdown",
   "metadata": {
    "id": "t8dCcpf7mivV"
   },
   "source": [
    "### Setup\n",
    "\n",
    "We install (from github) the unified planning library."
   ]
  },
  {
   "cell_type": "code",
   "execution_count": 1,
   "metadata": {
    "id": "BoqALxJWdfl8",
    "tags": [
     "remove_from_CI"
    ]
   },
   "outputs": [
    {
     "name": "stdout",
     "output_type": "stream",
     "text": [
      "Requirement already satisfied: unified-planning[fast-downward] in c:\\python310\\lib\\site-packages (0.6.0.54.dev1)"
     ]
    },
    {
     "name": "stderr",
     "output_type": "stream",
     "text": [
      "WARNING: Ignoring invalid distribution -ip (c:\\python310\\lib\\site-packages)\n",
      "WARNING: Ignoring invalid distribution -ip (c:\\python310\\lib\\site-packages)\n",
      "WARNING: Ignoring invalid distribution -ip (c:\\python310\\lib\\site-packages)\n",
      "WARNING: Ignoring invalid distribution -ip (c:\\python310\\lib\\site-packages)\n",
      "\n",
      "[notice] A new release of pip is available: 23.0.1 -> 23.1.2"
     ]
    },
    {
     "name": "stdout",
     "output_type": "stream",
     "text": [
      "\n",
      "Requirement already satisfied: pyparsing in c:\\python310\\lib\\site-packages (from unified-planning[fast-downward]) (3.0.6)\n",
      "Requirement already satisfied: networkx in c:\\python310\\lib\\site-packages (from unified-planning[fast-downward]) (3.1)\n",
      "Requirement already satisfied: up-fast-downward==0.2.1 in c:\\python310\\lib\\site-packages (from unified-planning[fast-downward]) (0.2.1)\n"
     ]
    },
    {
     "name": "stderr",
     "output_type": "stream",
     "text": [
      "\n",
      "[notice] To update, run: python.exe -m pip install --upgrade pip\n"
     ]
    }
   ],
   "source": [
    "!pip install --pre unified-planning[fast-downward]"
   ]
  },
  {
   "cell_type": "markdown",
   "metadata": {
    "id": "iNHFHxQKnKIp"
   },
   "source": [
    "We are now ready to use the Unified-Planning library!"
   ]
  },
  {
   "cell_type": "markdown",
   "metadata": {
    "id": "xI2BGgmvdsek"
   },
   "source": [
    "### Problem Definition\n"
   ]
  },
  {
   "cell_type": "markdown",
   "metadata": {
    "id": "bu91rHtQ34Wh"
   },
   "source": [
    "In this demo we show how to model a problem with an optimality metric and how to solve it following the given metric."
   ]
  },
  {
   "cell_type": "markdown",
   "metadata": {
    "id": "xn5l-SVxufFA"
   },
   "source": [
    "We start importing the shortcuts."
   ]
  },
  {
   "cell_type": "code",
   "execution_count": 2,
   "metadata": {
    "id": "otZVSku3idJC"
   },
   "outputs": [],
   "source": [
    "from unified_planning.shortcuts import *\n",
    "from unified_planning.engines import PlanGenerationResultStatus"
   ]
  },
  {
   "cell_type": "markdown",
   "metadata": {
    "id": "M9DCTuoSu2vh"
   },
   "source": [
    "Now we start to model a basic problem with action costs."
   ]
  },
  {
   "cell_type": "markdown",
   "metadata": {
    "id": "5iISKqwryXFT"
   },
   "source": [
    "\n",
    "\n",
    "In the following code we will create a simple problem that can be solved in 2 different ways depending on the given optimality metric."
   ]
  },
  {
   "cell_type": "code",
   "execution_count": 3,
   "metadata": {
    "id": "e5BWi6wyuqyB"
   },
   "outputs": [],
   "source": [
    "# basic with actions cost\n",
    "x = Fluent(\"x\")\n",
    "y = Fluent(\"y\")\n",
    "\n",
    "a = InstantaneousAction(\"a\")\n",
    "a.add_precondition(Not(x))\n",
    "a.add_effect(x, True)\n",
    "\n",
    "b = InstantaneousAction(\"b\")\n",
    "b.add_precondition(Not(y))\n",
    "b.add_effect(y, True)\n",
    "\n",
    "c = InstantaneousAction(\"c\")\n",
    "c.add_precondition(y)\n",
    "c.add_effect(x, True)\n",
    "\n",
    "problem = Problem(\"simple_with_costs\")\n",
    "\n",
    "problem.add_fluent(x)\n",
    "problem.add_fluent(y)\n",
    "\n",
    "problem.add_action(a)\n",
    "problem.add_action(b)\n",
    "problem.add_action(c)\n",
    "\n",
    "problem.set_initial_value(x, False)\n",
    "problem.set_initial_value(y, False)\n",
    "\n",
    "problem.add_goal(x)"
   ]
  },
  {
   "cell_type": "markdown",
   "metadata": {},
   "source": [
    "### Quality Metric\n",
    "\n",
    "Now, we add to the problem the quality metric that we want the planner to use.\n",
    "\n",
    "In this case, we will use the metric that minimizes the total action costs of the plan."
   ]
  },
  {
   "cell_type": "code",
   "execution_count": 4,
   "metadata": {},
   "outputs": [],
   "source": [
    "problem.add_quality_metric(\n",
    "    up.model.metrics.MinimizeActionCosts({a: 10, b: 1, c: 1})\n",
    ")"
   ]
  },
  {
   "cell_type": "markdown",
   "metadata": {},
   "source": [
    "### Getting the optimal plan\n",
    "\n",
    "As we can see, the action `a` would satisfy the goal in just one action, but the plan would have cost `10`. \n",
    "Instead, if we do `b` then `c`, we also satisfy the goal, but the plan total cost would be `2`."
   ]
  },
  {
   "cell_type": "code",
   "execution_count": 5,
   "metadata": {},
   "outputs": [],
   "source": [
    "expected_plan = up.plans.SequentialPlan(\n",
    "    [up.plans.ActionInstance(b), up.plans.ActionInstance(c)]\n",
    ")"
   ]
  },
  {
   "cell_type": "markdown",
   "metadata": {
    "id": "aMMtRDVovvuM"
   },
   "source": [
    "Then, we get a solver that guarantees that the problem can be solved optimally."
   ]
  },
  {
   "cell_type": "code",
   "execution_count": 6,
   "metadata": {
    "id": "vEDxcqkLvm9d"
   },
   "outputs": [
    {
     "name": "stdout",
     "output_type": "stream",
     "text": [
      "\u001b[96m\u001b[1mNOTE: To disable printing of planning engine credits, add this line to your code: `up.shortcuts.get_environment().credits_stream = None`\n",
      "\u001b[0m\u001b[96m  *** Credits ***\n",
      "\u001b[0m\u001b[96m  * In operation mode `OneshotPlanner` at line 549 of `c:\\Python310\\lib\\site-packages\\unified_planning\\shortcuts.py`, \u001b[0m\u001b[96myou are using the following planning engine:\n",
      "\u001b[0m\u001b[96m  * Engine name: Fast Downward\n",
      "  * Developers:  Uni Basel team and contributors (cf. https://github.com/aibasel/downward/blob/main/README.md)\n",
      "\u001b[0m\u001b[96m  * Description: \u001b[0m\u001b[96mFast Downward is a domain-independent classical planning system.\u001b[0m\u001b[96m\n",
      "\u001b[0m\u001b[96m\n",
      "\u001b[0m"
     ]
    }
   ],
   "source": [
    "with OneshotPlanner(\n",
    "    problem_kind=problem.kind,\n",
    "    optimality_guarantee=PlanGenerationResultStatus.SOLVED_OPTIMALLY,\n",
    ") as planner:\n",
    "    final_report = planner.solve(problem)\n",
    "    plan = final_report.plan"
   ]
  },
  {
   "cell_type": "markdown",
   "metadata": {
    "id": "SIA9pRCiwEql"
   },
   "source": [
    "Here, we assume that the plan is the one we expected, and not the shortest one, and that it is `SOLVED_OPTIMALLY`."
   ]
  },
  {
   "cell_type": "code",
   "execution_count": 7,
   "metadata": {
    "id": "b1Xnzzq7wOxw"
   },
   "outputs": [
    {
     "ename": "AssertionError",
     "evalue": "",
     "output_type": "error",
     "traceback": [
      "\u001b[1;31m---------------------------------------------------------------------------\u001b[0m",
      "\u001b[1;31mAssertionError\u001b[0m                            Traceback (most recent call last)",
      "\u001b[1;32mc:\\Users\\muzo1\\Desktop\\UPF\\unified-planning\\docs\\notebooks\\02-optimal-planning.ipynb Cell 19\u001b[0m in \u001b[0;36m<module>\u001b[1;34m\u001b[0m\n\u001b[1;32m----> <a href='vscode-notebook-cell:/c%3A/Users/muzo1/Desktop/UPF/unified-planning/docs/notebooks/02-optimal-planning.ipynb#X24sZmlsZQ%3D%3D?line=0'>1</a>\u001b[0m \u001b[39massert\u001b[39;00m final_report\u001b[39m.\u001b[39mstatus \u001b[39m==\u001b[39m PlanGenerationResultStatus\u001b[39m.\u001b[39mSOLVED_OPTIMALLY\n\u001b[0;32m      <a href='vscode-notebook-cell:/c%3A/Users/muzo1/Desktop/UPF/unified-planning/docs/notebooks/02-optimal-planning.ipynb#X24sZmlsZQ%3D%3D?line=1'>2</a>\u001b[0m \u001b[39massert\u001b[39;00m plan \u001b[39m==\u001b[39m expected_plan\n",
      "\u001b[1;31mAssertionError\u001b[0m: "
     ]
    }
   ],
   "source": [
    "assert final_report.status == PlanGenerationResultStatus.SOLVED_OPTIMALLY\n",
    "assert plan == expected_plan"
   ]
  },
  {
   "cell_type": "markdown",
   "metadata": {
    "id": "vidUnHLh3gOz"
   },
   "source": [
    "### Change quality metric and get different optimal plan\n",
    "\n",
    "We change the problem quality metrics by removing all the current metrics and add a new one; we will ask for the shortest possible plan."
   ]
  },
  {
   "cell_type": "code",
   "execution_count": null,
   "metadata": {
    "id": "xl8dm2fZ3gpp"
   },
   "outputs": [],
   "source": [
    "problem.clear_quality_metrics()\n",
    "problem.add_quality_metric(up.model.metrics.MinimizeSequentialPlanLength())"
   ]
  },
  {
   "cell_type": "markdown",
   "metadata": {
    "id": "mjdfaQw537eI"
   },
   "source": [
    "We get a planner from the factory that is capable of handling the new type of optimality requirement."
   ]
  },
  {
   "cell_type": "code",
   "execution_count": null,
   "metadata": {
    "id": "8NFqgnnlyeAc"
   },
   "outputs": [
    {
     "name": "stdout",
     "output_type": "stream",
     "text": [
      "\u001b[96m  *** Credits ***\n",
      "\u001b[0m\u001b[96m  * In operation mode `OneshotPlanner` at line 549 of `c:\\Python310\\lib\\site-packages\\unified_planning\\shortcuts.py`, \u001b[0m\u001b[96myou are using the following planning engine:\n",
      "\u001b[0m\u001b[96m  * Engine name: Fast Downward\n",
      "  * Developers:  Uni Basel team and contributors (cf. https://github.com/aibasel/downward/blob/main/README.md)\n",
      "\u001b[0m\u001b[96m  * Description: \u001b[0m\u001b[96mFast Downward is a domain-independent classical planning system.\u001b[0m\u001b[96m\n",
      "\u001b[0m\u001b[96m\n",
      "\u001b[0m"
     ]
    }
   ],
   "source": [
    "with OneshotPlanner(\n",
    "    problem_kind=problem.kind,\n",
    "    optimality_guarantee=PlanGenerationResultStatus.SOLVED_OPTIMALLY,\n",
    ") as planner:\n",
    "    final_report = planner.solve(problem)\n",
    "    plan = final_report.plan"
   ]
  },
  {
   "cell_type": "markdown",
   "metadata": {
    "id": "kLDlxvwL39dh"
   },
   "source": [
    "Then, we define the shortest plan possible (only the action `a`) and we assume that the result is `SOLVED_OPTIMALLY`."
   ]
  },
  {
   "cell_type": "code",
   "execution_count": null,
   "metadata": {
    "id": "S4rT6f0A3qRJ"
   },
   "outputs": [
    {
     "ename": "AssertionError",
     "evalue": "",
     "output_type": "error",
     "traceback": [
      "\u001b[1;31m---------------------------------------------------------------------------\u001b[0m",
      "\u001b[1;31mAssertionError\u001b[0m                            Traceback (most recent call last)",
      "\u001b[1;32mc:\\Users\\muzo1\\Desktop\\UPF\\unified-planning\\docs\\notebooks\\02-optimal-planning.ipynb Cell 25\u001b[0m in \u001b[0;36m<module>\u001b[1;34m\u001b[0m\n\u001b[0;32m      <a href='vscode-notebook-cell:/c%3A/Users/muzo1/Desktop/UPF/unified-planning/docs/notebooks/02-optimal-planning.ipynb#X33sZmlsZQ%3D%3D?line=0'>1</a>\u001b[0m expected_plan \u001b[39m=\u001b[39m up\u001b[39m.\u001b[39mplans\u001b[39m.\u001b[39mSequentialPlan(\n\u001b[0;32m      <a href='vscode-notebook-cell:/c%3A/Users/muzo1/Desktop/UPF/unified-planning/docs/notebooks/02-optimal-planning.ipynb#X33sZmlsZQ%3D%3D?line=1'>2</a>\u001b[0m     [up\u001b[39m.\u001b[39mplans\u001b[39m.\u001b[39mActionInstance(a)]\n\u001b[0;32m      <a href='vscode-notebook-cell:/c%3A/Users/muzo1/Desktop/UPF/unified-planning/docs/notebooks/02-optimal-planning.ipynb#X33sZmlsZQ%3D%3D?line=2'>3</a>\u001b[0m )\n\u001b[1;32m----> <a href='vscode-notebook-cell:/c%3A/Users/muzo1/Desktop/UPF/unified-planning/docs/notebooks/02-optimal-planning.ipynb#X33sZmlsZQ%3D%3D?line=3'>4</a>\u001b[0m \u001b[39massert\u001b[39;00m final_report\u001b[39m.\u001b[39mstatus \u001b[39m==\u001b[39m PlanGenerationResultStatus\u001b[39m.\u001b[39mSOLVED_OPTIMALLY\n\u001b[0;32m      <a href='vscode-notebook-cell:/c%3A/Users/muzo1/Desktop/UPF/unified-planning/docs/notebooks/02-optimal-planning.ipynb#X33sZmlsZQ%3D%3D?line=4'>5</a>\u001b[0m \u001b[39massert\u001b[39;00m plan \u001b[39m==\u001b[39m expected_plan\n",
      "\u001b[1;31mAssertionError\u001b[0m: "
     ]
    }
   ],
   "source": [
    "expected_plan = up.plans.SequentialPlan(\n",
    "    [up.plans.ActionInstance(a)]\n",
    ")\n",
    "assert final_report.status == PlanGenerationResultStatus.SOLVED_OPTIMALLY\n",
    "assert plan == expected_plan"
   ]
  }
 ],
 "metadata": {
  "celltoolbar": "Tags",
  "colab": {
   "collapsed_sections": [],
   "name": "Optimal Planning",
   "provenance": []
  },
  "kernelspec": {
   "display_name": "Python 3 (ipykernel)",
   "language": "python",
   "name": "python3"
  },
  "language_info": {
   "codemirror_mode": {
    "name": "ipython",
    "version": 3
   },
   "file_extension": ".py",
   "mimetype": "text/x-python",
   "name": "python",
   "nbconvert_exporter": "python",
   "pygments_lexer": "ipython3",
   "version": "3.10.2"
  },
  "vscode": {
   "interpreter": {
    "hash": "0f093686f7df634549cfcc38b496d64db351fb20473bb5b931eecb8ae35c8804"
   }
  }
 },
 "nbformat": 4,
 "nbformat_minor": 1
}
