{
 "cells": [
  {
   "attachments": {},
   "cell_type": "markdown",
   "metadata": {
    "id": "-O38cYGqUwCJ"
   },
   "source": [
    "# PDDL I/O Example\n",
    "\n",
    "This notebook will show the possible interations between the pddl language and the unified_planning usage.\n",
    "\n",
    "[![Open In GitHub](https://img.shields.io/badge/see-Github-579aca?logo=github)](https:///github.com/aiplan4eu/unified-planning/blob/master/docs/notebooks/io/01-pddl-usage-example.ipynb)\n",
    "[![Open In Colab](https://colab.research.google.com/assets/colab-badge.svg)](https://colab.research.google.com/github/aiplan4eu/unified-planning/blob/master/docs/notebooks/io/01-pddl-usage-example.ipynb)\n",
    "\n",
    "## Setup\n",
    "We start by installing the library with PIP\n"
   ]
  },
  {
   "cell_type": "code",
   "execution_count": 10,
   "metadata": {
    "id": "x-vPi8y9ce2y",
    "tags": [
     "remove_from_CI"
    ]
   },
   "outputs": [
    {
     "name": "stdout",
     "output_type": "stream",
     "text": [
      "Requirement already satisfied: unified-planning in c:\\python310\\lib\\site-packages (0.6.0.54.dev1)\n",
      "Requirement already satisfied: pyparsing in c:\\python310\\lib\\site-packages (from unified-planning) (3.0.6)\n",
      "Requirement already satisfied: networkx in c:\\python310\\lib\\site-packages (from unified-planning) (3.1)\n"
     ]
    },
    {
     "name": "stderr",
     "output_type": "stream",
     "text": [
      "WARNING: Ignoring invalid distribution -ip (c:\\python310\\lib\\site-packages)\n",
      "WARNING: Ignoring invalid distribution -ip (c:\\python310\\lib\\site-packages)\n",
      "WARNING: Ignoring invalid distribution -ip (c:\\python310\\lib\\site-packages)\n",
      "WARNING: Ignoring invalid distribution -ip (c:\\python310\\lib\\site-packages)\n",
      "\n",
      "[notice] A new release of pip is available: 23.0.1 -> 23.1.2\n",
      "[notice] To update, run: python.exe -m pip install --upgrade pip\n"
     ]
    }
   ],
   "source": [
    "!pip install --pre unified-planning"
   ]
  },
  {
   "attachments": {},
   "cell_type": "markdown",
   "metadata": {},
   "source": [
    "## Sample pddl domain and problem\n",
    "\n",
    "Using wget, download from the unified_planning repository the pddl files we need for testing."
   ]
  },
  {
   "cell_type": "code",
   "execution_count": 11,
   "metadata": {
    "id": "01nDJbkoVZU1"
   },
   "outputs": [
    {
     "name": "stderr",
     "output_type": "stream",
     "text": [
      "C:/Users/muzo1/Documents: Permission denied\n"
     ]
    }
   ],
   "source": [
    "!wget https://raw.githubusercontent.com/aiplan4eu/unified-planning/master/unified_planning/test/pddl/counters/domain.pddl -O C:/Users/muzo1/Documents"
   ]
  },
  {
   "cell_type": "code",
   "execution_count": 12,
   "metadata": {
    "id": "-fFY3Q3mZo4P"
   },
   "outputs": [
    {
     "name": "stderr",
     "output_type": "stream",
     "text": [
      "/tmp/counters_problem.pddl: No such file or directory\n"
     ]
    }
   ],
   "source": [
    "!wget https://raw.githubusercontent.com/aiplan4eu/unified-planning/master/unified_planning/test/pddl/counters/problem.pddl -O /tmp/counters_problem.pddl"
   ]
  },
  {
   "attachments": {},
   "cell_type": "markdown",
   "metadata": {},
   "source": [
    "## PDDL Reader\n",
    "\n",
    "As the name suggests, the [PDDLReader](https://unified-planning.readthedocs.io/en/latest/api_ref.html#unified_planning.io.PDDLReader) offers the capability of parsing a problem from a pddl file and creates a semantically equivalent problem in the `unified_planning` framework.\n",
    "\n",
    "There are 2 possible usages:\n",
    "- the first one is parsing both a domain file and a problem file.\n",
    "- the second one is parsing only a domain file and then populate the problem using the `unified_planning` capabilities."
   ]
  },
  {
   "attachments": {},
   "cell_type": "markdown",
   "metadata": {},
   "source": [
    "### Parsing domain and problem files\n",
    "\n",
    "In the following example the `PDDLReader` will be used to parse a complete PDDL problem; so it will need a `domain.pddl` file and a `problem.pddl` file."
   ]
  },
  {
   "cell_type": "code",
   "execution_count": 13,
   "metadata": {
    "id": "1xp1How6aClP"
   },
   "outputs": [
    {
     "name": "stdout",
     "output_type": "stream",
     "text": [
      "problem name = instance_4\n",
      "\n",
      "types = [counter]\n",
      "\n",
      "fluents = [\n",
      "  real value[c=counter]\n",
      "  real max_int\n",
      "]\n",
      "\n",
      "actions = [\n",
      "  action increment(counter c) {\n",
      "    preconditions = [\n",
      "      ((value(c) + 1) <= max_int)\n",
      "    ]\n",
      "    effects = [\n",
      "      value(c) += 1\n",
      "    ]\n",
      "  }\n",
      "  action decrement(counter c) {\n",
      "    preconditions = [\n",
      "      (1 <= value(c))\n",
      "    ]\n",
      "    effects = [\n",
      "      value(c) -= 1\n",
      "    ]\n",
      "  }\n",
      "]\n",
      "\n",
      "objects = [\n",
      "  counter: [c0, c1, c2, c3]\n",
      "]\n",
      "\n",
      "initial fluents default = [\n",
      "]\n",
      "\n",
      "initial values = [\n",
      "  max_int := 10\n",
      "  value(c0) := 0\n",
      "  value(c1) := 0\n",
      "  value(c2) := 0\n",
      "  value(c3) := 0\n",
      "]\n",
      "\n",
      "goals = [\n",
      "  (((value(c0) + 1) <= value(c1)) and ((value(c1) + 1) <= value(c2)) and ((value(c2) + 1) <= value(c3)))\n",
      "]\n",
      "\n",
      "\n"
     ]
    }
   ],
   "source": [
    "# Import the PDDLReader and PDDLWriter classes\n",
    "from unified_planning.io import PDDLReader, PDDLWriter\n",
    "\n",
    "reader = PDDLReader()\n",
    "pddl_problem = reader.parse_problem('C:/Users/muzo1/Desktop/UPF/unified-planning/docs/notebooks/io/domainEx.pddl', 'C:/Users/muzo1/Desktop/UPF/unified-planning/docs/notebooks/io/problemEx.pddl')\n",
    "print(pddl_problem)"
   ]
  },
  {
   "cell_type": "code",
   "execution_count": 14,
   "metadata": {},
   "outputs": [
    {
     "ename": "SyntaxError",
     "evalue": "(unicode error) 'unicodeescape' codec can't decode bytes in position 2-3: truncated \\UXXXXXXXX escape (3751357793.py, line 5)",
     "output_type": "error",
     "traceback": [
      "\u001b[1;36m  Input \u001b[1;32mIn [14]\u001b[1;36m\u001b[0m\n\u001b[1;33m    pddl_problem = reader.parse_problem('C:\\Users\\muzo1\\Desktop\\UPF\\unified-planning\\docs\\notebooks\\io\\domain.pddl', 'C:\\Users\\muzo1\\Desktop\\UPF\\unified-planning\\docs\\notebooks\\io\\problem.pddl')\u001b[0m\n\u001b[1;37m                                                                                                                   ^\u001b[0m\n\u001b[1;31mSyntaxError\u001b[0m\u001b[1;31m:\u001b[0m (unicode error) 'unicodeescape' codec can't decode bytes in position 2-3: truncated \\UXXXXXXXX escape\n"
     ]
    }
   ],
   "source": [
    "# Import the PDDLReader and PDDLWriter classes\n",
    "from unified_planning.io import PDDLReader, PDDLWriter\n",
    "\n",
    "reader = PDDLReader()\n",
    "pddl_problem = reader.parse_problem('C:/Users/muzo1/Desktop/UPF/unified-planning/docs/notebooks/io/domain.pddl', 'C:/Users/muzo1/Desktop/UPF/unified-planning/docs/notebooks/io/problem.pddl')\n",
    "print(pddl_problem)"
   ]
  },
  {
   "attachments": {},
   "cell_type": "markdown",
   "metadata": {},
   "source": [
    "### Parsing only a domain file\n",
    "\n",
    "In the following example the `PDDLReader` will be used to parse only a domain file, and then the problem will be populated using the `unified_planning` framework."
   ]
  },
  {
   "cell_type": "code",
   "execution_count": null,
   "metadata": {},
   "outputs": [
    {
     "ename": "FileNotFoundError",
     "evalue": "[Errno 2] No such file or directory: '/tmp/counters_domain.pddl'",
     "output_type": "error",
     "traceback": [
      "\u001b[1;31m---------------------------------------------------------------------------\u001b[0m",
      "\u001b[1;31mFileNotFoundError\u001b[0m                         Traceback (most recent call last)",
      "\u001b[1;32mc:\\Users\\muzo1\\Desktop\\UPF\\unified-planning\\docs\\notebooks\\io\\01-pddl-usage-example.ipynb Cell 10\u001b[0m in \u001b[0;36m<module>\u001b[1;34m\u001b[0m\n\u001b[0;32m      <a href='vscode-notebook-cell:/c%3A/Users/muzo1/Desktop/UPF/unified-planning/docs/notebooks/io/01-pddl-usage-example.ipynb#X12sZmlsZQ%3D%3D?line=0'>1</a>\u001b[0m \u001b[39m# Domain is a up.model.Problem that contains only the pddl domain. \u001b[39;00m\n\u001b[1;32m----> <a href='vscode-notebook-cell:/c%3A/Users/muzo1/Desktop/UPF/unified-planning/docs/notebooks/io/01-pddl-usage-example.ipynb#X12sZmlsZQ%3D%3D?line=1'>2</a>\u001b[0m domain \u001b[39m=\u001b[39m reader\u001b[39m.\u001b[39;49mparse_problem(\u001b[39m'\u001b[39;49m\u001b[39m/tmp/counters_domain.pddl\u001b[39;49m\u001b[39m'\u001b[39;49m, \u001b[39mNone\u001b[39;49;00m) \u001b[39m# None is the default, so it can be avoided\u001b[39;00m\n\u001b[0;32m      <a href='vscode-notebook-cell:/c%3A/Users/muzo1/Desktop/UPF/unified-planning/docs/notebooks/io/01-pddl-usage-example.ipynb#X12sZmlsZQ%3D%3D?line=2'>3</a>\u001b[0m counter_type \u001b[39m=\u001b[39m domain\u001b[39m.\u001b[39muser_type(\u001b[39m\"\u001b[39m\u001b[39mcounter\u001b[39m\u001b[39m\"\u001b[39m)              \u001b[39m# get the counter type\u001b[39;00m\n\u001b[0;32m      <a href='vscode-notebook-cell:/c%3A/Users/muzo1/Desktop/UPF/unified-planning/docs/notebooks/io/01-pddl-usage-example.ipynb#X12sZmlsZQ%3D%3D?line=3'>4</a>\u001b[0m domain\u001b[39m.\u001b[39mset_initial_value(domain\u001b[39m.\u001b[39mfluent(\u001b[39m\"\u001b[39m\u001b[39mmax_int\u001b[39m\u001b[39m\"\u001b[39m), \u001b[39m10\u001b[39m)  \u001b[39m# initialize the fluent \"max_int\"\u001b[39;00m\n",
      "File \u001b[1;32mc:\\Python310\\lib\\site-packages\\unified_planning\\io\\pddl_reader.py:1660\u001b[0m, in \u001b[0;36mPDDLReader.parse_problem\u001b[1;34m(self, domain_filename, problem_filename)\u001b[0m\n\u001b[0;32m   1643\u001b[0m \u001b[39mdef\u001b[39;00m \u001b[39mparse_problem\u001b[39m(\n\u001b[0;32m   1644\u001b[0m     \u001b[39mself\u001b[39m, domain_filename: \u001b[39mstr\u001b[39m, problem_filename: typing\u001b[39m.\u001b[39mOptional[\u001b[39mstr\u001b[39m] \u001b[39m=\u001b[39m \u001b[39mNone\u001b[39;00m\n\u001b[0;32m   1645\u001b[0m ) \u001b[39m-\u001b[39m\u001b[39m>\u001b[39m \u001b[39m\"\u001b[39m\u001b[39mup.model.Problem\u001b[39m\u001b[39m\"\u001b[39m:\n\u001b[0;32m   1646\u001b[0m     \u001b[39m\"\"\"\u001b[39;00m\n\u001b[0;32m   1647\u001b[0m \u001b[39m    Takes in input a filename containing the `PDDL` domain and optionally a filename\u001b[39;00m\n\u001b[0;32m   1648\u001b[0m \u001b[39m    containing the `PDDL` problem and returns the parsed `Problem`.\u001b[39;00m\n\u001b[1;32m   (...)\u001b[0m\n\u001b[0;32m   1658\u001b[0m \u001b[39m    :return: The `Problem` parsed from the given pddl domain + problem.\u001b[39;00m\n\u001b[0;32m   1659\u001b[0m \u001b[39m    \"\"\"\u001b[39;00m\n\u001b[1;32m-> 1660\u001b[0m     \u001b[39mwith\u001b[39;00m \u001b[39mopen\u001b[39;49m(domain_filename, \u001b[39m\"\u001b[39;49m\u001b[39mr\u001b[39;49m\u001b[39m\"\u001b[39;49m) \u001b[39mas\u001b[39;00m domain_file:\n\u001b[0;32m   1661\u001b[0m         domain_str \u001b[39m=\u001b[39m domain_file\u001b[39m.\u001b[39mread()\n\u001b[0;32m   1663\u001b[0m     problem_str \u001b[39m=\u001b[39m \u001b[39mNone\u001b[39;00m\n",
      "\u001b[1;31mFileNotFoundError\u001b[0m: [Errno 2] No such file or directory: '/tmp/counters_domain.pddl'"
     ]
    }
   ],
   "source": [
    "# Domain is a up.model.Problem that contains only the pddl domain. \n",
    "domain = reader.parse_problem('/tmp/counters_domain.pddl', None) # None is the default, so it can be avoided\n",
    "counter_type = domain.user_type(\"counter\")              # get the counter type\n",
    "domain.set_initial_value(domain.fluent(\"max_int\"), 10)  # initialize the fluent \"max_int\"\n",
    "value_fluent = domain.fluent(\"value\")                   # get the \"value\" fluent\n",
    "for i in range(4, 6):\n",
    "    problem = domain.clone()                            # Clone the parsed domain, then populate it\n",
    "    # Populate the problem. \"j\" iterates in [0, i], creates an object of type\n",
    "    # \"counter\", sets it's initial value to 0, and then sets the goal:\n",
    "    # \"value(c{j-1}) + 1 <=  value(c{j})\". \n",
    "    # This means that every value of the added objects must be\n",
    "    # at least 1 bigger than the object added before.\n",
    "    for j in range(i + 1):\n",
    "        object_j = problem.add_object(f\"c{str(j)}\", counter_type)   # Create and add object\n",
    "        problem.set_initial_value(value_fluent(object_j), 0)        # Set the initial value of \"value(object)\" to 0\n",
    "        if j > 0:  \n",
    "            previous_object = problem.object(f\"c{str(j-1)}\")        # Get previous object\n",
    "            problem.add_goal(                                       # Add the goal \"value(c{j-1})+1 <=  value(c{j})\"\n",
    "                value_fluent(previous_object)+1 <= value_fluent(object_j),\n",
    "            )\n",
    "    print(problem)"
   ]
  },
  {
   "attachments": {},
   "cell_type": "markdown",
   "metadata": {},
   "source": [
    "## PDDL Writer\n",
    "\n",
    "As the `PDDLReader` allows a unified_planning user to parse a problem from pddl, the [PDDLWriter](https://unified-planning.readthedocs.io/en/latest/api_ref.html#unified_planning.io.PDDLWriter) offers the capability of dumping a `unified_planning Problem` in pddl.\n",
    "\n",
    "There are 3 possible usages of the `PDDLWriter`:\n",
    "- printing pddl domain and problem to a file\n",
    "- getting pddl domain and problem as a python str\n",
    "- printing pddl domain and problem to `STDOUT`"
   ]
  },
  {
   "attachments": {},
   "cell_type": "markdown",
   "metadata": {},
   "source": [
    "### Writing to file\n",
    "\n",
    "To write the pddl equivalent of a `unified_planning Problem` to a file we use the `PDDLWriter.write_domain` and `PDDLWriter.write_problem` methods."
   ]
  },
  {
   "cell_type": "code",
   "execution_count": null,
   "metadata": {
    "id": "s_lwgr5pVEsC"
   },
   "outputs": [
    {
     "ename": "NameError",
     "evalue": "name 'problem' is not defined",
     "output_type": "error",
     "traceback": [
      "\u001b[1;31m---------------------------------------------------------------------------\u001b[0m",
      "\u001b[1;31mNameError\u001b[0m                                 Traceback (most recent call last)",
      "\u001b[1;32mc:\\Users\\muzo1\\Desktop\\UPF\\unified-planning\\docs\\notebooks\\io\\01-pddl-usage-example.ipynb Cell 13\u001b[0m in \u001b[0;36m<module>\u001b[1;34m\u001b[0m\n\u001b[1;32m----> <a href='vscode-notebook-cell:/c%3A/Users/muzo1/Desktop/UPF/unified-planning/docs/notebooks/io/01-pddl-usage-example.ipynb#X15sZmlsZQ%3D%3D?line=0'>1</a>\u001b[0m w \u001b[39m=\u001b[39m PDDLWriter(problem)\n\u001b[0;32m      <a href='vscode-notebook-cell:/c%3A/Users/muzo1/Desktop/UPF/unified-planning/docs/notebooks/io/01-pddl-usage-example.ipynb#X15sZmlsZQ%3D%3D?line=1'>2</a>\u001b[0m w\u001b[39m.\u001b[39mwrite_domain(\u001b[39m'\u001b[39m\u001b[39m/tmp/written_counters_domain.pddl\u001b[39m\u001b[39m'\u001b[39m)\n\u001b[0;32m      <a href='vscode-notebook-cell:/c%3A/Users/muzo1/Desktop/UPF/unified-planning/docs/notebooks/io/01-pddl-usage-example.ipynb#X15sZmlsZQ%3D%3D?line=2'>3</a>\u001b[0m w\u001b[39m.\u001b[39mwrite_problem(\u001b[39m'\u001b[39m\u001b[39m/tmp/written_counters_problem.pddl\u001b[39m\u001b[39m'\u001b[39m)\n",
      "\u001b[1;31mNameError\u001b[0m: name 'problem' is not defined"
     ]
    }
   ],
   "source": [
    "w = PDDLWriter(problem)\n",
    "w.write_domain('/tmp/written_counters_domain.pddl')\n",
    "w.write_problem('/tmp/written_counters_problem.pddl')"
   ]
  },
  {
   "attachments": {},
   "cell_type": "markdown",
   "metadata": {},
   "source": [
    "### Getting domain and problem as a python string\n",
    "\n",
    "To get the pddl equivalent of a `unified_planning Problem` as a python string we use the `PDDLWriter.get_domain` and `PDDLWriter.get_problem` methods."
   ]
  },
  {
   "cell_type": "code",
   "execution_count": null,
   "metadata": {},
   "outputs": [],
   "source": [
    "print(w.get_domain())\n",
    "print(w.get_problem())"
   ]
  },
  {
   "attachments": {},
   "cell_type": "markdown",
   "metadata": {},
   "source": [
    "### Printing domain and problem to STDOUT\n",
    "\n",
    "To print the pddl equivalent of a `unified_planning Problem` to `STDOUT` we use the `PDDLWriter.print_domain` and `PDDLWriter.print_problem` methods."
   ]
  },
  {
   "cell_type": "code",
   "execution_count": null,
   "metadata": {},
   "outputs": [
    {
     "ename": "NameError",
     "evalue": "name 'w' is not defined",
     "output_type": "error",
     "traceback": [
      "\u001b[1;31m---------------------------------------------------------------------------\u001b[0m",
      "\u001b[1;31mNameError\u001b[0m                                 Traceback (most recent call last)",
      "\u001b[1;32mc:\\Users\\muzo1\\Desktop\\UPF\\unified-planning\\docs\\notebooks\\io\\01-pddl-usage-example.ipynb Cell 17\u001b[0m in \u001b[0;36m<module>\u001b[1;34m\u001b[0m\n\u001b[1;32m----> <a href='vscode-notebook-cell:/c%3A/Users/muzo1/Desktop/UPF/unified-planning/docs/notebooks/io/01-pddl-usage-example.ipynb#X22sZmlsZQ%3D%3D?line=0'>1</a>\u001b[0m w\u001b[39m.\u001b[39mprint_domain()\n\u001b[0;32m      <a href='vscode-notebook-cell:/c%3A/Users/muzo1/Desktop/UPF/unified-planning/docs/notebooks/io/01-pddl-usage-example.ipynb#X22sZmlsZQ%3D%3D?line=1'>2</a>\u001b[0m w\u001b[39m.\u001b[39mprint_problem()\n",
      "\u001b[1;31mNameError\u001b[0m: name 'w' is not defined"
     ]
    }
   ],
   "source": [
    "w.print_domain()\n",
    "w.print_problem()"
   ]
  }
 ],
 "metadata": {
  "celltoolbar": "Tags",
  "colab": {
   "collapsed_sections": [],
   "name": "PDDL Usage example",
   "provenance": []
  },
  "kernelspec": {
   "display_name": "Python 3 (ipykernel)",
   "language": "python",
   "name": "python3"
  },
  "language_info": {
   "codemirror_mode": {
    "name": "ipython",
    "version": 3
   },
   "file_extension": ".py",
   "mimetype": "text/x-python",
   "name": "python",
   "nbconvert_exporter": "python",
   "pygments_lexer": "ipython3",
   "version": "3.10.2"
  },
  "vscode": {
   "interpreter": {
    "hash": "fcfc934ecfdac8ddac62d6a80ba8d82faf47dc8d54fd6a313f0c016b85ebec0e"
   }
  }
 },
 "nbformat": 4,
 "nbformat_minor": 1
}
